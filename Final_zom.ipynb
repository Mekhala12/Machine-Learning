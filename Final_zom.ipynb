{
  "cells": [
    {
      "cell_type": "markdown",
      "metadata": {
        "id": "view-in-github",
        "colab_type": "text"
      },
      "source": [
        "<a href=\"https://colab.research.google.com/github/Mekhala12/Machine-Learning/blob/master/Final_zom.ipynb\" target=\"_parent\"><img src=\"https://colab.research.google.com/assets/colab-badge.svg\" alt=\"Open In Colab\"/></a>"
      ]
    },
    {
      "cell_type": "markdown",
      "metadata": {
        "id": "yv9qwvcApw3T"
      },
      "source": [
        "***SENTIMENT ANALYSIS AND RECOMMENDATION SYSTEM ON ZOMATO DATASET***\n",
        "\n",
        "![image.png](data:image/png;base64,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)\n",
        "\n",
        "\n"
      ]
    },
    {
      "cell_type": "markdown",
      "metadata": {
        "id": "6RvLyBZKlPi0"
      },
      "source": [
        "\n",
        "\n",
        "***`  Step 1`***: We have to load the dataset into google colab for further processing, Here I am using the Zomato Bangalore dataset from kaggle and loading it on colab using an API call, Below code allows us to extract and load the dataset from kaggle.\n",
        "\n",
        "\n",
        "\n",
        "\n",
        "\n",
        "\n"
      ]
    },
    {
      "cell_type": "code",
      "execution_count": 14,
      "metadata": {
        "id": "TzUOMIylPji4"
      },
      "outputs": [],
      "source": [
        "#install kaggle\n",
        "!pip install -q kaggle"
      ]
    },
    {
      "cell_type": "code",
      "execution_count": 15,
      "metadata": {
        "colab": {
          "base_uri": "https://localhost:8080/",
          "height": 89
        },
        "id": "NZ_wHqGeP_Va",
        "outputId": "5d5039b0-7405-41a8-b4d3-626f34df2a42"
      },
      "outputs": [
        {
          "output_type": "display_data",
          "data": {
            "text/plain": [
              "<IPython.core.display.HTML object>"
            ],
            "text/html": [
              "\n",
              "     <input type=\"file\" id=\"files-26864acb-e5e2-4324-8379-8bd21679904b\" name=\"files[]\" multiple disabled\n",
              "        style=\"border:none\" />\n",
              "     <output id=\"result-26864acb-e5e2-4324-8379-8bd21679904b\">\n",
              "      Upload widget is only available when the cell has been executed in the\n",
              "      current browser session. Please rerun this cell to enable.\n",
              "      </output>\n",
              "      <script>// Copyright 2017 Google LLC\n",
              "//\n",
              "// Licensed under the Apache License, Version 2.0 (the \"License\");\n",
              "// you may not use this file except in compliance with the License.\n",
              "// You may obtain a copy of the License at\n",
              "//\n",
              "//      http://www.apache.org/licenses/LICENSE-2.0\n",
              "//\n",
              "// Unless required by applicable law or agreed to in writing, software\n",
              "// distributed under the License is distributed on an \"AS IS\" BASIS,\n",
              "// WITHOUT WARRANTIES OR CONDITIONS OF ANY KIND, either express or implied.\n",
              "// See the License for the specific language governing permissions and\n",
              "// limitations under the License.\n",
              "\n",
              "/**\n",
              " * @fileoverview Helpers for google.colab Python module.\n",
              " */\n",
              "(function(scope) {\n",
              "function span(text, styleAttributes = {}) {\n",
              "  const element = document.createElement('span');\n",
              "  element.textContent = text;\n",
              "  for (const key of Object.keys(styleAttributes)) {\n",
              "    element.style[key] = styleAttributes[key];\n",
              "  }\n",
              "  return element;\n",
              "}\n",
              "\n",
              "// Max number of bytes which will be uploaded at a time.\n",
              "const MAX_PAYLOAD_SIZE = 100 * 1024;\n",
              "\n",
              "function _uploadFiles(inputId, outputId) {\n",
              "  const steps = uploadFilesStep(inputId, outputId);\n",
              "  const outputElement = document.getElementById(outputId);\n",
              "  // Cache steps on the outputElement to make it available for the next call\n",
              "  // to uploadFilesContinue from Python.\n",
              "  outputElement.steps = steps;\n",
              "\n",
              "  return _uploadFilesContinue(outputId);\n",
              "}\n",
              "\n",
              "// This is roughly an async generator (not supported in the browser yet),\n",
              "// where there are multiple asynchronous steps and the Python side is going\n",
              "// to poll for completion of each step.\n",
              "// This uses a Promise to block the python side on completion of each step,\n",
              "// then passes the result of the previous step as the input to the next step.\n",
              "function _uploadFilesContinue(outputId) {\n",
              "  const outputElement = document.getElementById(outputId);\n",
              "  const steps = outputElement.steps;\n",
              "\n",
              "  const next = steps.next(outputElement.lastPromiseValue);\n",
              "  return Promise.resolve(next.value.promise).then((value) => {\n",
              "    // Cache the last promise value to make it available to the next\n",
              "    // step of the generator.\n",
              "    outputElement.lastPromiseValue = value;\n",
              "    return next.value.response;\n",
              "  });\n",
              "}\n",
              "\n",
              "/**\n",
              " * Generator function which is called between each async step of the upload\n",
              " * process.\n",
              " * @param {string} inputId Element ID of the input file picker element.\n",
              " * @param {string} outputId Element ID of the output display.\n",
              " * @return {!Iterable<!Object>} Iterable of next steps.\n",
              " */\n",
              "function* uploadFilesStep(inputId, outputId) {\n",
              "  const inputElement = document.getElementById(inputId);\n",
              "  inputElement.disabled = false;\n",
              "\n",
              "  const outputElement = document.getElementById(outputId);\n",
              "  outputElement.innerHTML = '';\n",
              "\n",
              "  const pickedPromise = new Promise((resolve) => {\n",
              "    inputElement.addEventListener('change', (e) => {\n",
              "      resolve(e.target.files);\n",
              "    });\n",
              "  });\n",
              "\n",
              "  const cancel = document.createElement('button');\n",
              "  inputElement.parentElement.appendChild(cancel);\n",
              "  cancel.textContent = 'Cancel upload';\n",
              "  const cancelPromise = new Promise((resolve) => {\n",
              "    cancel.onclick = () => {\n",
              "      resolve(null);\n",
              "    };\n",
              "  });\n",
              "\n",
              "  // Wait for the user to pick the files.\n",
              "  const files = yield {\n",
              "    promise: Promise.race([pickedPromise, cancelPromise]),\n",
              "    response: {\n",
              "      action: 'starting',\n",
              "    }\n",
              "  };\n",
              "\n",
              "  cancel.remove();\n",
              "\n",
              "  // Disable the input element since further picks are not allowed.\n",
              "  inputElement.disabled = true;\n",
              "\n",
              "  if (!files) {\n",
              "    return {\n",
              "      response: {\n",
              "        action: 'complete',\n",
              "      }\n",
              "    };\n",
              "  }\n",
              "\n",
              "  for (const file of files) {\n",
              "    const li = document.createElement('li');\n",
              "    li.append(span(file.name, {fontWeight: 'bold'}));\n",
              "    li.append(span(\n",
              "        `(${file.type || 'n/a'}) - ${file.size} bytes, ` +\n",
              "        `last modified: ${\n",
              "            file.lastModifiedDate ? file.lastModifiedDate.toLocaleDateString() :\n",
              "                                    'n/a'} - `));\n",
              "    const percent = span('0% done');\n",
              "    li.appendChild(percent);\n",
              "\n",
              "    outputElement.appendChild(li);\n",
              "\n",
              "    const fileDataPromise = new Promise((resolve) => {\n",
              "      const reader = new FileReader();\n",
              "      reader.onload = (e) => {\n",
              "        resolve(e.target.result);\n",
              "      };\n",
              "      reader.readAsArrayBuffer(file);\n",
              "    });\n",
              "    // Wait for the data to be ready.\n",
              "    let fileData = yield {\n",
              "      promise: fileDataPromise,\n",
              "      response: {\n",
              "        action: 'continue',\n",
              "      }\n",
              "    };\n",
              "\n",
              "    // Use a chunked sending to avoid message size limits. See b/62115660.\n",
              "    let position = 0;\n",
              "    do {\n",
              "      const length = Math.min(fileData.byteLength - position, MAX_PAYLOAD_SIZE);\n",
              "      const chunk = new Uint8Array(fileData, position, length);\n",
              "      position += length;\n",
              "\n",
              "      const base64 = btoa(String.fromCharCode.apply(null, chunk));\n",
              "      yield {\n",
              "        response: {\n",
              "          action: 'append',\n",
              "          file: file.name,\n",
              "          data: base64,\n",
              "        },\n",
              "      };\n",
              "\n",
              "      let percentDone = fileData.byteLength === 0 ?\n",
              "          100 :\n",
              "          Math.round((position / fileData.byteLength) * 100);\n",
              "      percent.textContent = `${percentDone}% done`;\n",
              "\n",
              "    } while (position < fileData.byteLength);\n",
              "  }\n",
              "\n",
              "  // All done.\n",
              "  yield {\n",
              "    response: {\n",
              "      action: 'complete',\n",
              "    }\n",
              "  };\n",
              "}\n",
              "\n",
              "scope.google = scope.google || {};\n",
              "scope.google.colab = scope.google.colab || {};\n",
              "scope.google.colab._files = {\n",
              "  _uploadFiles,\n",
              "  _uploadFilesContinue,\n",
              "};\n",
              "})(self);\n",
              "</script> "
            ]
          },
          "metadata": {}
        },
        {
          "output_type": "stream",
          "name": "stdout",
          "text": [
            "Saving kaggle.json to kaggle (1).json\n"
          ]
        },
        {
          "output_type": "execute_result",
          "data": {
            "text/plain": [
              "{'kaggle.json': b'{\"username\":\"mekhalavpurohit\",\"key\":\"f0814502f1d3bb588ae536ae940ba0d8\"}'}"
            ]
          },
          "metadata": {},
          "execution_count": 15
        }
      ],
      "source": [
        "from google.colab import files\n",
        "files.upload()"
      ]
    },
    {
      "cell_type": "code",
      "execution_count": 16,
      "metadata": {
        "id": "2WW2CWAmQShk",
        "colab": {
          "base_uri": "https://localhost:8080/"
        },
        "outputId": "d27d7073-fc4b-4955-a3e6-5b610cba2834"
      },
      "outputs": [
        {
          "output_type": "stream",
          "name": "stdout",
          "text": [
            "mkdir: cannot create directory ‘/root/.kaggle/’: File exists\n"
          ]
        }
      ],
      "source": [
        "#create a kaggle folder\n",
        "! mkdir ~/.kaggle/"
      ]
    },
    {
      "cell_type": "code",
      "execution_count": 17,
      "metadata": {
        "id": "vQbeu57wQiVj"
      },
      "outputs": [],
      "source": [
        "#copy the kaggle.json file to folder created\n",
        "! cp kaggle.json ~/.kaggle/"
      ]
    },
    {
      "cell_type": "code",
      "execution_count": 18,
      "metadata": {
        "id": "l7z9_0W4Qzhv"
      },
      "outputs": [],
      "source": [
        "#Permission for the json file to act in the colab\n",
        "! chmod 600 ~/.kaggle/kaggle.json"
      ]
    },
    {
      "cell_type": "code",
      "execution_count": 19,
      "metadata": {
        "colab": {
          "base_uri": "https://localhost:8080/"
        },
        "id": "U-dRP1aJRPwJ",
        "outputId": "cebec26b-b20e-42ad-dde5-aefaff3ab61e"
      },
      "outputs": [
        {
          "output_type": "stream",
          "name": "stdout",
          "text": [
            "ref                                                                title                                              size  lastUpdated          downloadCount  voteCount  usabilityRating  \n",
            "-----------------------------------------------------------------  ------------------------------------------------  -----  -------------------  -------------  ---------  ---------------  \n",
            "arnabchaki/data-science-salaries-2023                              Data Science Salaries 2023 💸                       25KB  2023-04-13 09:55:16          10330        278  1.0              \n",
            "asahu40/walmart-data-analysis-and-forcasting                       Walmart Data Analysis and Forcasting              122KB  2023-04-26 07:07:03           1406         33  1.0              \n",
            "ahmedshahriarsakib/usa-real-estate-dataset                         USA Real Estate Dataset                             1MB  2023-04-30 03:51:36           1152         32  1.0              \n",
            "iammustafatz/diabetes-prediction-dataset                           Diabetes prediction dataset                       734KB  2023-04-08 06:11:45           5367         76  1.0              \n",
            "desalegngeb/students-exam-scores                                   Students Exam Scores: Extended Dataset            695KB  2023-04-14 00:15:38           4090         90  1.0              \n",
            "sougatapramanick/happiness-index-2018-2019                         Happiness Index 2018-2019                          15KB  2023-04-14 12:01:03           1457         27  1.0              \n",
            "salvatorerastelli/spotify-and-youtube                              Spotify and Youtube                                 9MB  2023-03-20 15:43:25          13497        437  1.0              \n",
            "rajkumarpandey02/list-of-epidemics-and-pandemics-in-world-history  List of Epidemics and Pandemics in World History   10KB  2023-05-04 09:22:07            355         23  1.0              \n",
            "nadyinky/sephora-products-and-skincare-reviews                     Sephora Products and Skincare Reviews             175MB  2023-04-22 10:50:45            842         28  1.0              \n",
            "r1shabhgupta/best-movies-on-netflix                                Top 100 Movies on Netflix                          32KB  2023-04-13 15:34:38            926         31  0.9411765        \n",
            "thabresh/2023-countries-by-population                              2023 Countries by Population                       17KB  2023-04-20 08:50:50            642         26  0.88235295       \n",
            "harshghadiya/covid-19-country-statistics-dataset                   Covid-19-country-statistics-dataset                13KB  2023-04-27 23:22:02            591         24  0.7647059        \n",
            "mohamedafsal007/house-price-dataset-of-india                       House Price dataset of India                      480KB  2023-03-27 06:22:55           9411        106  0.88235295       \n",
            "arnabchaki/indian-restaurants-2023                                 Indian Restaurants 2023 🍲                         139KB  2023-04-27 09:57:57           1265         39  1.0              \n",
            "lokeshparab/amazon-products-dataset                                Amazon Products Sales Dataset 2023                 80MB  2023-03-26 10:45:19           7673        160  1.0              \n",
            "utkarshx27/motor-vehicle-collisions                                Motor Vehicle Collisions                           78MB  2023-04-30 06:43:34            590         30  1.0              \n",
            "bilalwaseer/all-time-worldwide-box-office-for-action-movies        All Time Worldwide Box Office for Action Movies    51KB  2023-04-29 11:54:51            555         28  1.0              \n",
            "erdemtaha/cancer-data                                              Cancer Data                                        49KB  2023-03-22 07:57:00           7307        140  1.0              \n",
            "tayyarhussain/best-selling-video-games-of-all-time                 Best-Selling Video Games of All Time                2KB  2023-04-26 21:57:31            936         37  1.0              \n",
            "dansbecker/melbourne-housing-snapshot                              Melbourne Housing Snapshot                        451KB  2018-06-05 12:52:24         114779       1259  0.7058824        \n"
          ]
        }
      ],
      "source": [
        "#To list all the datasets available in the kaggle(Just to know the already available datasets on colab for public use)\n",
        "#We can see that zomato dataset is not available, Hence we have to load from kaggle.\n",
        "! kaggle datasets list"
      ]
    },
    {
      "cell_type": "code",
      "execution_count": 20,
      "metadata": {
        "colab": {
          "base_uri": "https://localhost:8080/"
        },
        "id": "g0lkiKCHRcfP",
        "outputId": "f81d306e-bcb0-4032-ac55-6bc5718ad578"
      },
      "outputs": [
        {
          "output_type": "stream",
          "name": "stdout",
          "text": [
            "/content\n"
          ]
        }
      ],
      "source": [
        "!pwd\n"
      ]
    },
    {
      "cell_type": "code",
      "execution_count": 21,
      "metadata": {
        "colab": {
          "base_uri": "https://localhost:8080/"
        },
        "id": "sq5jQ_dnUpW1",
        "outputId": "2ee9f165-055a-4a27-c107-3c20ea4a5011"
      },
      "outputs": [
        {
          "output_type": "stream",
          "name": "stdout",
          "text": [
            "zomato-bangalore-restaurants.zip: Skipping, found more recently modified local copy (use --force to force download)\n"
          ]
        }
      ],
      "source": [
        "#This below code is the API copied from the Kaggle, This will allow us to download the dataset here\n",
        "!kaggle datasets download -d himanshupoddar/zomato-bangalore-restaurants"
      ]
    },
    {
      "cell_type": "code",
      "execution_count": 22,
      "metadata": {
        "colab": {
          "base_uri": "https://localhost:8080/"
        },
        "id": "5TxAfR17WADT",
        "outputId": "490e834c-1bd6-45c1-d438-968893242f9c"
      },
      "outputs": [
        {
          "output_type": "stream",
          "name": "stdout",
          "text": [
            "Archive:  zomato-bangalore-restaurants.zip\n",
            "replace zomato.csv? [y]es, [n]o, [A]ll, [N]one, [r]ename: "
          ]
        }
      ],
      "source": [
        "#Extracting the file(Unzipping process)\n",
        "!unzip zomato-bangalore-restaurants"
      ]
    },
    {
      "cell_type": "markdown",
      "metadata": {
        "id": "2fbpPZS6mDMX"
      },
      "source": [
        "\n",
        "----------------------------------------------------\n",
        "This ends the dataset extraction from kaggle to the google colab.\n"
      ]
    },
    {
      "cell_type": "code",
      "execution_count": 23,
      "metadata": {
        "id": "BzlJDzCfmXtW"
      },
      "outputs": [],
      "source": [
        " #importing all the necessary libraries\n",
        "import pandas as pd\n",
        "import nltk\n",
        "import numpy as np\n",
        "import matplotlib.pyplot as plt\n",
        "from nltk.sentiment.vader import SentimentIntensityAnalyzer\n",
        "from collections import Counter\n",
        "from textblob import TextBlob\n",
        "from nltk.corpus import opinion_lexicon\n",
        "from sklearn.feature_extraction.text import CountVectorizer"
      ]
    },
    {
      "cell_type": "code",
      "execution_count": 24,
      "metadata": {
        "colab": {
          "base_uri": "https://localhost:8080/"
        },
        "id": "X_l64_zFsOEB",
        "outputId": "80e15a2e-f06c-4d1d-d153-91c750e9139b"
      },
      "outputs": [
        {
          "output_type": "stream",
          "name": "stdout",
          "text": [
            "Looking in indexes: https://pypi.org/simple, https://us-python.pkg.dev/colab-wheels/public/simple/\n",
            "Requirement already satisfied: lime in /usr/local/lib/python3.10/dist-packages (0.2.0.1)\n",
            "Requirement already satisfied: numpy in /usr/local/lib/python3.10/dist-packages (from lime) (1.22.4)\n",
            "Requirement already satisfied: tqdm in /usr/local/lib/python3.10/dist-packages (from lime) (4.65.0)\n",
            "Requirement already satisfied: matplotlib in /usr/local/lib/python3.10/dist-packages (from lime) (3.7.1)\n",
            "Requirement already satisfied: scikit-learn>=0.18 in /usr/local/lib/python3.10/dist-packages (from lime) (1.2.2)\n",
            "Requirement already satisfied: scipy in /usr/local/lib/python3.10/dist-packages (from lime) (1.10.1)\n",
            "Requirement already satisfied: scikit-image>=0.12 in /usr/local/lib/python3.10/dist-packages (from lime) (0.19.3)\n",
            "Requirement already satisfied: imageio>=2.4.1 in /usr/local/lib/python3.10/dist-packages (from scikit-image>=0.12->lime) (2.25.1)\n",
            "Requirement already satisfied: tifffile>=2019.7.26 in /usr/local/lib/python3.10/dist-packages (from scikit-image>=0.12->lime) (2023.4.12)\n",
            "Requirement already satisfied: pillow!=7.1.0,!=7.1.1,!=8.3.0,>=6.1.0 in /usr/local/lib/python3.10/dist-packages (from scikit-image>=0.12->lime) (8.4.0)\n",
            "Requirement already satisfied: networkx>=2.2 in /usr/local/lib/python3.10/dist-packages (from scikit-image>=0.12->lime) (3.1)\n",
            "Requirement already satisfied: PyWavelets>=1.1.1 in /usr/local/lib/python3.10/dist-packages (from scikit-image>=0.12->lime) (1.4.1)\n",
            "Requirement already satisfied: packaging>=20.0 in /usr/local/lib/python3.10/dist-packages (from scikit-image>=0.12->lime) (23.1)\n",
            "Requirement already satisfied: joblib>=1.1.1 in /usr/local/lib/python3.10/dist-packages (from scikit-learn>=0.18->lime) (1.2.0)\n",
            "Requirement already satisfied: threadpoolctl>=2.0.0 in /usr/local/lib/python3.10/dist-packages (from scikit-learn>=0.18->lime) (3.1.0)\n",
            "Requirement already satisfied: pyparsing>=2.3.1 in /usr/local/lib/python3.10/dist-packages (from matplotlib->lime) (3.0.9)\n",
            "Requirement already satisfied: kiwisolver>=1.0.1 in /usr/local/lib/python3.10/dist-packages (from matplotlib->lime) (1.4.4)\n",
            "Requirement already satisfied: fonttools>=4.22.0 in /usr/local/lib/python3.10/dist-packages (from matplotlib->lime) (4.39.3)\n",
            "Requirement already satisfied: python-dateutil>=2.7 in /usr/local/lib/python3.10/dist-packages (from matplotlib->lime) (2.8.2)\n",
            "Requirement already satisfied: cycler>=0.10 in /usr/local/lib/python3.10/dist-packages (from matplotlib->lime) (0.11.0)\n",
            "Requirement already satisfied: contourpy>=1.0.1 in /usr/local/lib/python3.10/dist-packages (from matplotlib->lime) (1.0.7)\n",
            "Requirement already satisfied: six>=1.5 in /usr/local/lib/python3.10/dist-packages (from python-dateutil>=2.7->matplotlib->lime) (1.16.0)\n"
          ]
        }
      ],
      "source": [
        "#Installing the LIME tool(Explainable AI tools) to implement the model\n",
        "!pip install lime\n"
      ]
    },
    {
      "cell_type": "code",
      "execution_count": 25,
      "metadata": {
        "id": "E0tc7XGGtDgJ"
      },
      "outputs": [],
      "source": [
        "import lime"
      ]
    },
    {
      "cell_type": "markdown",
      "metadata": {
        "id": "uqZLf5aOygfn"
      },
      "source": [
        "*`Step 2`*: The below code is cleaning the data and predicting the ratings.\n",
        "\n"
      ]
    },
    {
      "cell_type": "code",
      "execution_count": 26,
      "metadata": {
        "colab": {
          "base_uri": "https://localhost:8080/"
        },
        "id": "yThpYbg9tN1U",
        "outputId": "85132fb3-301a-4896-d878-4d4406eb653f"
      },
      "outputs": [
        {
          "output_type": "stream",
          "name": "stdout",
          "text": [
            "Accuracy: 42.25048501832291\n",
            "      predicted_rating actual_rating\n",
            "9707            3.4 /5         3.3/5\n",
            "34728           4.5 /5        4.5 /5\n",
            "51182           3.9 /5        3.2 /5\n",
            "41270           4.3 /5        3.9 /5\n",
            "31348            3.9/5        4.0 /5\n",
            "...                ...           ...\n",
            "15443           4.0 /5         3.7/5\n",
            "3021             3.8/5         3.8/5\n",
            "40333           4.6 /5        4.6 /5\n",
            "19059            3.9/5         3.9/5\n",
            "29271           4.9 /5        4.9 /5\n",
            "\n",
            "[4639 rows x 2 columns]\n"
          ]
        }
      ],
      "source": [
        "from sklearn.model_selection import train_test_split\n",
        "from sklearn.metrics import accuracy_score\n",
        "from sklearn.feature_extraction.text import CountVectorizer\n",
        "from sklearn.naive_bayes import MultinomialNB\n",
        "\n",
        "\n",
        "# Load the dataset\n",
        "df = pd.read_csv('zomato.csv')\n",
        "\n",
        "# Remove null values\n",
        "df.dropna(inplace=True)\n",
        "\n",
        "# Convert the text to lowercase\n",
        "df['reviews_list'] = df['reviews_list'].str.lower()\n",
        "\n",
        "# Remove punctuation and digits from the text\n",
        "df['reviews_list'] = df['reviews_list'].str.replace('[^\\w\\s]', '')\n",
        "df['reviews_list'] = df['reviews_list'].str.replace('\\d+', '')\n",
        "\n",
        "# Split the dataset into training and testing sets\n",
        "X_train, X_test, y_train, y_test = train_test_split(df['reviews_list'], df['rate'], test_size=0.2, random_state=42)\n",
        "\n",
        "# Vectorize the text using CountVectorizer\n",
        "cv = CountVectorizer(stop_words='english')\n",
        "X_train_cv = cv.fit_transform(X_train)\n",
        "X_test_cv = cv.transform(X_test)\n",
        "\n",
        "# Train the model using Naive Bayes\n",
        "nb = MultinomialNB()\n",
        "nb.fit(X_train_cv, y_train)\n",
        "\n",
        "# Test the model and calculate accuracy\n",
        "y_pred = nb.predict(X_test_cv)\n",
        "accuracy = accuracy_score(y_test, y_pred)\n",
        "print('Accuracy:', accuracy*100)\n",
        "\n",
        "y_true = y_test\n",
        "\n",
        "# Assuming y_true is the array containing the actual ratings\n",
        "# Create a new DataFrame with the predicted and actual ratings\n",
        "results = pd.DataFrame({'predicted_rating': y_pred, 'actual_rating': y_true})\n",
        "\n",
        "# Write the DataFrame to a CSV file\n",
        "results.to_csv('zomato_test_results.csv', index=False)\n",
        "\n",
        "# Print the DataFrame\n",
        "print(results)\n",
        "\n",
        "\n",
        "\n",
        "\n"
      ]
    },
    {
      "cell_type": "markdown",
      "metadata": {
        "id": "n3MBIgnKx6cV"
      },
      "source": [
        "*`The above code uses Naive bayes text classification model to predict the ratings and it is creating a file with predicted and actual ratings in it for comparison.`*\n",
        "\n"
      ]
    },
    {
      "cell_type": "markdown",
      "metadata": {
        "id": "rR8K3hs54oeJ"
      },
      "source": [
        "*`Step 3`*: I am using the tool called LIME. It is an XAI tool which explains us why the predicted values were of that value, meaning - it will give us the reasons/factors that are affecting for the model to give that rating as a predicted rating."
      ]
    },
    {
      "cell_type": "code",
      "execution_count": 27,
      "metadata": {
        "colab": {
          "base_uri": "https://localhost:8080/"
        },
        "id": "9vyxUbv1-V2H",
        "outputId": "f559d0f5-0001-4c1e-80d2-6316dffe0fe5"
      },
      "outputs": [
        {
          "output_type": "stream",
          "name": "stdout",
          "text": [
            "Review: rated  ratedn  a pocket friendly food joint in the locality to have odia cuisinennbut it is very small and congested no proper sitting arrangements only  chairs are there and a wall mounted table and it will be very crowded always by zomato boys to collect food ordersnnthey have sweets snacks and other odia cuisines as well chicken kassa and dahi baigan was tasty but dint like the fish fry it was completely deep fried and not even fresh food quality could have been betternnbut their sweets are finger licking and really worth having must try rated  ratedn  good veg chop but aloor chop was more of a garlic chop and not at all good in taste and sweets are also ok need to try more options there but veg cutlet or chop is a must for a bong there its an oriya outlet in btm but bong can saviour there taste buds well rated  ratedn  very nice place to try out typical north indian snacks and food i have tried chats and sweets here those are awesome thali is also nice specially the quality of roti rated  ratedn  i ordered amlet it was to good and tasty paking was nice i will come regularly to there and oil has observed limitednsimply it was amazing place to eat this  rated  ratedn  kalingas its the best place for blissful taste of odia cuisine gives a feel that you are landed up in odisha specially the spicy dahivara aloodum and vada ghuguni perfect place for weekend breakfast\n",
            "Factors affecting the prediction: [('and', -2.503519433957854e-07), ('it', -2.2745940762469344e-07), ('its', -2.2125033771931417e-07), ('ratedn', -2.1996732072234128e-07), ('can', -2.1633683613813625e-07), ('there', -2.1537014734871675e-07), ('btm', -2.0150246174240477e-07), ('quality', -1.9898861621500962e-07), ('the', -1.9435322343188376e-07), ('eat', -1.9235685031077649e-07)]\n",
            "Predicted value: 3.9/5\n",
            "Actual value: 3.9/5\n",
            "\n",
            "Review: rated  ratedn  i cannot say a word about the food since i never tried anything from this place and iãxãxãxãxãxãxãxãxm very sure i never shallnhave seen this place and thought i should share a picture of it for you to decidenmy opinion it doesnãxãxãxãxãxãxãxãxt look hygienic at all and i think zomato should have an eligibility baseline for listing restaurants rated  ratedn  this place is located next to iim bangalore the food is fantastic the biriyani there is worth a shotnand their in house speciality is payam pori banana fritters and banana cake fluffiest ever\n",
            "Factors affecting the prediction: [('banana', -3.173854384986754e-06), ('and', -2.863309804892849e-06), ('food', -2.8177994709367184e-06), ('the', -2.7244038036606942e-06), ('place', -2.6963455680083272e-06), ('all', -2.645454084592338e-06), ('restaurants', -2.5963817604549415e-06), ('located', -2.557632019571801e-06), ('biriyani', -2.3921711305935696e-06), ('house', -2.3475088934621445e-06)]\n",
            "Predicted value: 2.8/5\n",
            "Actual value: 3.9/5\n",
            "\n",
            "Review: rated  ratedn  have been to this place multiple times very happy that now we can order the food online for home delivery as wellnhealthy and great food it has the feel of homely food and outside royalty ndo try out if you are in and around hsr rated  ratedn  new place added in hsr its area is small but enough for big gangs to chill around about food to be on a safer side i tried bun makkhan lassi tea maggi and veg grilled sandwich well tea was really good lassi was fine not very good sandwich was good in taste bread was fresh and it contained lots of veggies but was little dry maggi was their best item served it was well garnished rich is maggi masala bun makkhan was also good the only drawback is their location hard to find for outsiders\n",
            "Factors affecting the prediction: [('and', -6.942366608458079e-07), ('food', -6.041069723328233e-07), ('well', -5.603263237274427e-07), ('only', -5.478156939043721e-07), ('around', -5.399566728869345e-07), ('times', -5.396572686443552e-07), ('served', -5.249786342696608e-07), ('bread', -5.170520033801138e-07), ('try', -4.7466397869004097e-07), ('makkhan', -1.460720292480011e-07)]\n",
            "Predicted value: 3.8/5\n",
            "Actual value: 3.9/5\n",
            "\n",
            "Review: rated  ratedn  good job rated  ratedn  this was a beautiful little find in my way home from a long evening walk since this place was new i did notice it before always love a great parathannambience nthis is not the ideal place to sit and leisurely eat itãxãxãxãxãxãxãxãâãxãxãxãxãxãxãxãxãxãxãxãxãxãxãxãxs most of a need based dinning there are two tableschairs where one can sit down the place is kept relatively cleannnfood nabsolutely loved the parathas firstly many of the parathas here costs like  inr these are the conventional ones i got the aloo and the palak paratha both were incredible loved first how big each of them were the stuffing was also generous by the owner also loved how it was allowed to cook so well the flavours were greatnnsummary ngreat place to grab a quick bite or ideally a great place to order some fantastic food home recommended rated  ratedn  perfectly cooked and well stuffed paranthas order today properly balanced in spices and economical with the oil accompanying chutney is a welcome surprise  rated  ratedn  delivery was spot on i had ordered  parathas  aloo pyaj and  manchurian cheese both the parathas tasted good and totally value for money if youre looking for quick bite which can be fulfilling as well\n",
            "Factors affecting the prediction: [('the', -2.878372409147431e-07), ('and', -2.816408094285784e-07), ('sit', -2.64249029098179e-07), ('great', -2.518400982417435e-07), ('which', -2.510111860362597e-07), ('palak', -2.502106337548187e-07), ('most', -2.429078228441729e-07), ('manchurian', -2.399001180687198e-07), ('economical', -2.3931970746774514e-07), ('tasted', -2.380501490790315e-07)]\n",
            "Predicted value: 3.5/5\n",
            "Actual value: 3.9/5\n",
            "\n",
            "Review: rated  ratedn  i have mixed feeling about this place the delhi style falooda was brilliant just a treat to my senses the litchi was average plain litchi added to vanilla ice cream the gudbud on the other hand was jus bad  the dbc was ok except was the dried grapes added to it does not go well  rated  ratedn  i ordered kesar faluda and shawarma combo which came with lime juicenpacking was fine but combo taste can be improvednkesar faluda was proper faluda and tasted delicious\n",
            "Factors affecting the prediction: [('added', -2.565778821770562e-06), ('cream', -2.4030329904628554e-06), ('ice', -2.3297643274608024e-06), ('the', -2.2017539840832025e-06), ('falooda', -2.176362551170751e-06), ('hand', -2.1374709673478723e-06), ('well', -2.113792577233935e-06), ('fine', -2.0751897652907907e-06), ('combo', -2.0598905545631344e-06), ('bad', -2.0291444404243267e-06)]\n",
            "Predicted value: 3.5/5\n",
            "Actual value: 3.9/5\n",
            "\n",
            "Review: rated  ratedn  what ever you ask at this place you will get one only one answer  it is not available finally we ordered oreo shake taste was okay milkshake was very watery with lot of ice cubes rated  ratedn  amazing place for tasty quick bite not sure about ingredients but taste was awesome both on cad m thick chocolate drink along with the cheese sandwich missed an combo and ordered individual items but combos are worth of money rated  ratedn  some really tasty shakes at cad b cad m the place is relatively new and the shakes are absolutely awesome i went for the oreo cad shake it took me a while to finish it\n",
            "Factors affecting the prediction: [('cad', 1.8160310910084628e-06), ('shake', -1.780652683064683e-06), ('shakes', -1.5758350404273515e-06), ('and', -1.5642496463098975e-06), ('one', -1.5409414165998146e-06), ('ratedn', -1.5325641798904672e-06), ('items', -1.516256402505397e-06), ('tasty', -1.5058713303026864e-06), ('place', -1.4826376632608732e-06), ('of', -1.4782702202970357e-06)]\n",
            "Predicted value: 3.7/5\n",
            "Actual value: 3.9/5\n",
            "\n",
            "Review: rated  ratedn  a very nice place not very spacious though the staffs are very jolly  friendly  greet you really well the food is great and the price is reasonable a lot of options in the menu a must visit place\n",
            "Factors affecting the prediction: [('the', -9.323488388054857e-06), ('must', -5.9311934055525464e-06), ('great', -5.762219370389279e-06), ('nice', -5.345654727464396e-06), ('really', -5.322675409767669e-06), ('very', -5.2087108795119365e-06), ('is', -5.162233010856655e-06), ('and', -5.125575605932391e-06), ('lot', -4.9423236015214424e-06), ('well', -4.694220561933115e-06)]\n",
            "Predicted value: 3.9/5\n",
            "Actual value: 3.9/5\n",
            "\n",
            "Review: rated  ratedn  ordered white sauce fusilli pasta pretty goodthis restaurant is so pocket friendly they give the same quality nearing to any big italian restaurants id say cant wait to order more from them also want to give a visit improve on veggies used in pasta you gotta be great soon\n",
            "Factors affecting the prediction: [('wait', -3.2333443502743533e-06), ('pasta', -3.1976587518367697e-06), ('give', -2.673456676692829e-06), ('them', -2.6617592775503097e-06), ('more', -2.6369148887995677e-06), ('to', -2.526018415091466e-06), ('cant', -2.4829218775635124e-06), ('order', -2.373915878633076e-06), ('sauce', -2.3414971378257034e-06), ('improve', -2.1473894428450373e-06)]\n",
            "Predicted value: 3.7/5\n",
            "Actual value: 3.9/5\n",
            "\n",
            "Review: rated  ratedn  ordered via swiggy for an alfredo veg pastanthe days i want to relish good pastaãxãxãxãxãxãxãxãxs somehow the experiments from new outlets make it a bitter experiencennit was neatly packed the garlic breads on the side was bearablenthe pasta however was a disaster it had few veggies the sauce was just too too bad i dont even know how to express the griefnmilkynerrn i really donãxãxãxãxãxãxãxãxt know what they were thinking or if this is their unique white sauce whichever be it itãxãxãxãxãxãxãxãxs horrible period rated  ratedn  i ordered one veg farfalle pasta in creamy alfredo sauce i had particularly instructed them not to add broccoli and to make the pasta creamy which they took care of the garlic bread that came along with it was cold and chewy but never mind because the pasta was really yummy and the quantity was perfect for me the packaging was also done beautifully midnight cravings become crazy for me and at times i dont get the kind of food i expect but id recommend pipabu because i feel thats very unlikely to happen especially if one orders pasta thank you for the food rated  ratedn  i ordered for a take away from swiggy ordered for fried ride and garlic chicken combo taste was impeccable and had  pieces of chicken which great value for money i would have given  star if they served more rice had a very very very small portion of rice not sure if thatãxãxãxãxãxãxãxãxs the portion or the guys made a mistake love the taste but sadly was hungry in hr after lunch rated  ratedn  ive never been to pipabu but i have ordered food from here on  occasionsnni have tried the pesto pasta veg creamy yet with a wonderful flavour of basil served with toasted garlic bread and manchurian mushroom rice bowl yummy af  the fried rice manchurian bits and gravy are stored separately so that they dont mix  genius the quantity served is a lot and the food is very tasty here cant wait to actually go to pipabu and try out the food\n",
            "Factors affecting the prediction: [('midnight', -1.6907645827651999e-07), ('very', -1.6848232326865248e-07), ('small', -1.6610021404528624e-07), ('if', -1.6295767531159582e-07), ('packed', -1.6200493033839767e-07), ('bread', -1.5890340168668657e-07), ('make', -1.5514421175694485e-07), ('the', -1.5465215821276424e-07), ('beautifully', -1.5285670328250832e-07), ('ordered', -6.99993835908137e-08)]\n",
            "Predicted value: 3.8 /5\n",
            "Actual value: 3.9/5\n",
            "\n",
            "Review: rated  ratedn  first chowmein where i got cashew and color is yellow of singaporean noodlesnhalf star for it rated  ratedn  superb food and great staffs parathas roti great tried both the chinese and indian delicacy good ambience and also value for money try the basket roti and al habibi chicken special rated  ratedn  the best biryani ever in bangalore i ordered on zomato and i was never expected that great taste thanks al habibi wishes next time again will get same taste rated  ratedn  we order for gravy  they have delivered chicken fry rated  ratedn  not that good taste rated  ratedn  nice response to customer rated  ratedn  delivery on time and good he found my place\n",
            "Factors affecting the prediction: [('and', -9.783251159987204e-07), ('ratedn', -8.916896281267656e-07), ('time', -8.493588261964109e-07), ('chicken', -8.320041399869465e-07), ('for', -8.26046395870247e-07), ('roti', -7.931083793399149e-07), ('also', -7.655893507129504e-07), ('delivery', -7.313331723957936e-07), ('good', -7.235905026595857e-07), ('parathas', -6.62259721393899e-07)]\n",
            "Predicted value: 3.5 /5\n",
            "Actual value: 3.9/5\n",
            "\n"
          ]
        }
      ],
      "source": [
        "import pandas as pd\n",
        "import lime\n",
        "import lime.lime_text\n",
        "from sklearn.feature_extraction.text import TfidfVectorizer\n",
        "from sklearn.naive_bayes import MultinomialNB\n",
        "from sklearn.pipeline import make_pipeline\n",
        "from sklearn.model_selection import train_test_split\n",
        "\n",
        "# Load the dataset\n",
        "df = pd.read_csv('zomato.csv')\n",
        "\n",
        "# Replace NaN values with an empty string\n",
        "df = df.fillna('')\n",
        "\n",
        "# Clean the data\n",
        "df['reviews_list'] = df['reviews_list'].str.lower().str.replace('[^\\w\\s]', '').str.replace('\\d+', '')\n",
        "\n",
        "# Split the dataset into training and testing sets\n",
        "X_train, X_test, y_train, y_test = train_test_split(df['reviews_list'], df['rate'], test_size=0.2, random_state=42)\n",
        "\n",
        "# Create a pipeline for the machine learning model with the best hyperparameters\n",
        "pipeline = make_pipeline(TfidfVectorizer(ngram_range=(1, 2), max_df=0.5, min_df=1),\n",
        "                         MultinomialNB(alpha=0.1))\n",
        "\n",
        "# Fit the pipeline to the training data\n",
        "pipeline.fit(X_train, y_train)\n",
        "\n",
        "# Create the explainer object\n",
        "explainer = lime.lime_text.LimeTextExplainer(class_names=['negative', 'neutral', 'positive'])\n",
        "\n",
        "# Define a function to print the predicted and actual values for each review\n",
        "def predict_and_print(review):\n",
        "    print(f\"Review: {review}\")\n",
        "    exp = explainer.explain_instance(review, pipeline.predict_proba, num_features=10)\n",
        "    print(f\"Factors affecting the prediction: {exp.as_list()}\")\n",
        "    print(f\"Predicted value: {pipeline.predict([review])[0]}\")\n",
        "    print(f\"Actual value: {y_test.values[0]}\\n\")\n",
        "\n",
        "# Select 10 reviews from the test set\n",
        "sample_reviews = X_test[:10]\n",
        "\n",
        "# Iterate over each review in the sample\n",
        "for i, review in enumerate(sample_reviews):\n",
        "    predict_and_print(review)\n"
      ]
    },
    {
      "cell_type": "code",
      "execution_count": 28,
      "metadata": {
        "colab": {
          "base_uri": "https://localhost:8080/",
          "height": 430
        },
        "id": "j8qn3U8mCpYY",
        "outputId": "12f8f511-044f-4c63-ea34-39b8532ae953"
      },
      "outputs": [
        {
          "output_type": "display_data",
          "data": {
            "text/plain": [
              "<Figure size 640x480 with 1 Axes>"
            ],
            "image/png": "[encoded data removed]"
          },
          "metadata": {}
        }
      ],
      "source": [
        "# Get the predicted and actual values for the first 10 instances in the test set\n",
        "predicted = pipeline.predict(X_test[:10])\n",
        "actual = y_test[:10]\n",
        "\n",
        "# Create a list of dictionaries with the predicted and actual values for each instance\n",
        "data = [{'Instance': i+1, 'Predicted': predicted[i], 'Actual': actual.iloc[i]} for i in range(10)]\n",
        "\n",
        "# Create a Pandas DataFrame from the list of dictionaries\n",
        "df = pd.DataFrame(data)\n",
        "\n",
        "\n",
        "# Create a bar chart of the predicted and actual values\n",
        "x = np.arange(len(df))\n",
        "width = 0.35\n",
        "fig, ax = plt.subplots()\n",
        "rects1 = ax.bar(x - width/2, df['Actual'], width, label='Actual')\n",
        "rects2 = ax.bar(x + width/2, df['Predicted'], width, label='Predicted')\n",
        "ax.set_xticks(x)\n",
        "ax.set_xticklabels(df['Instance'])\n",
        "ax.legend()\n",
        "plt.show()\n",
        "\n"
      ]
    },
    {
      "cell_type": "code",
      "execution_count": 29,
      "metadata": {
        "id": "PB5O7x7TdfKr",
        "colab": {
          "base_uri": "https://localhost:8080/",
          "height": 694
        },
        "outputId": "9e47bb4d-32b2-4449-80b8-381898a2d6ab"
      },
      "outputs": [
        {
          "output_type": "display_data",
          "data": {
            "text/plain": [
              "<Figure size 640x480 with 1 Axes>"
            ],
            "image/png": "[encoded data removed]"
          },
          "metadata": {}
        },
        {
          "output_type": "stream",
          "name": "stdout",
          "text": [
            "              precision    recall  f1-score   support\n",
            "\n",
            "    Negative       1.00      0.76      0.86        42\n",
            "     Neutral       0.93      0.66      0.77       460\n",
            "    Positive       0.97      1.00      0.98      5885\n",
            "\n",
            "    accuracy                           0.97      6387\n",
            "   macro avg       0.97      0.81      0.87      6387\n",
            "weighted avg       0.97      0.97      0.97      6387\n",
            "\n"
          ]
        }
      ],
      "source": [
        "import pandas as pd\n",
        "import numpy as np\n",
        "import matplotlib.pyplot as plt\n",
        "from sklearn.model_selection import train_test_split\n",
        "from sklearn.feature_extraction.text import TfidfVectorizer\n",
        "from sklearn.svm import LinearSVC\n",
        "from sklearn.metrics import classification_report\n",
        "import re\n",
        "\n",
        "# Load the Zomato dataset\n",
        "df = pd.read_csv(\"zomato.csv\")\n",
        "\n",
        "# Keep only the relevant columns\n",
        "df = df[[\"reviews_list\", \"rate\"]]\n",
        "\n",
        "# Remove rows with missing values\n",
        "df = df.dropna()\n",
        "\n",
        "# Filter out non-numeric values from the \"rate\" column\n",
        "df = df[df[\"rate\"].apply(lambda x: bool(re.match(r\"^\\d+(\\.\\d+)?/\\d+$\", str(x))))]\n",
        "\n",
        "# Convert the \"rate\" column to a float type\n",
        "df[\"rate\"] = df[\"rate\"].apply(lambda x: float(x.split(\"/\")[0]))\n",
        "\n",
        "# Map the \"rate\" column to sentiment categories\n",
        "df[\"sentiment\"] = pd.cut(df[\"rate\"], bins=[-np.inf, 2.5, 3, np.inf], labels=[\"Negative\", \"Neutral\", \"Positive\"])\n",
        "\n",
        "# Plot the sentiment distribution\n",
        "df[\"sentiment\"].value_counts().plot(kind=\"bar\")\n",
        "plt.xlabel(\"Sentiment\")\n",
        "plt.ylabel(\"Count\")\n",
        "plt.title(\"Sentiment Distribution\")\n",
        "plt.show()\n",
        "\n",
        "# Split the dataset into training and testing sets\n",
        "X_train, X_test, y_train, y_test = train_test_split(df[\"reviews_list\"], df[\"sentiment\"], test_size=0.3)\n",
        "\n",
        "# Convert the reviews into TF-IDF vectors\n",
        "vectorizer = TfidfVectorizer(stop_words=\"english\")\n",
        "X_train = vectorizer.fit_transform(X_train)\n",
        "X_test = vectorizer.transform(X_test)\n",
        "\n",
        "# Train a linear SVM classifier on the training data\n",
        "clf = LinearSVC()\n",
        "clf.fit(X_train, y_train)\n",
        "\n",
        "# Evaluate the classifier on the testing data\n",
        "y_pred = clf.predict(X_test)\n",
        "print(classification_report(y_test, y_pred))\n"
      ]
    },
    {
      "cell_type": "code",
      "source": [
        "\n",
        "import pandas as pd\n",
        "\n",
        "# Load the Zomato dataset\n",
        "data = pd.read_csv('zomato.csv')\n",
        "\n",
        "def recommend_restaurant(cuisine, cost):\n",
        "    # Filter restaurants based on user's cuisine choice\n",
        "    cuisine_restaurants = data[data['cuisines'].str.contains(cuisine, case=False, na=False)].copy()\n",
        "\n",
        "    if cuisine_restaurants.empty:\n",
        "        return \"No restaurants found for the given cuisine.\"\n",
        "\n",
        "    # Convert \"approx_cost(for two people)\" column to numeric\n",
        "    cuisine_restaurants.loc[:, 'approx_cost(for two people)'] = cuisine_restaurants['approx_cost(for two people)'].str.replace(',', '')\n",
        "    cuisine_restaurants.loc[:, 'approx_cost(for two people)'] = pd.to_numeric(cuisine_restaurants['approx_cost(for two people)'], errors='coerce')\n",
        "\n",
        "    # Filter restaurants based on average cost for two people\n",
        "    cost_restaurants = cuisine_restaurants[cuisine_restaurants['approx_cost(for two people)'] <= cost]\n",
        "\n",
        "    if cost_restaurants.empty:\n",
        "        return \"No restaurants found within the given budget.\"\n",
        "\n",
        "    # Sort restaurants by approximate cost for two people in ascending order\n",
        "    sorted_restaurants = cost_restaurants.sort_values('approx_cost(for two people)')\n",
        "\n",
        "    # Get the name of the recommended restaurant\n",
        "    recommended_restaurant = sorted_restaurants.iloc[0]['name']\n",
        "    return recommended_restaurant\n",
        "\n",
        "# Get user input for cuisine preference\n",
        "user_cuisine = input(\"Enter your cuisine preference: \")\n",
        "\n",
        "# Get user input for average cost for two people\n",
        "user_cost = float(input(\"Enter your budget for two people: \"))\n",
        "\n",
        "# Call the recommend_restaurant function with user's inputs\n",
        "recommendation = recommend_restaurant(user_cuisine, user_cost)\n",
        "\n",
        "# Display the recommended restaurant\n",
        "print(\"Recommended Restaurant:\", recommendation)\n"
      ],
      "metadata": {
        "colab": {
          "base_uri": "https://localhost:8080/"
        },
        "id": "4K6j-ZSloU-K",
        "outputId": "4b6cbc08-1963-40a0-dd97-b98100ec9092"
      },
      "execution_count": 30,
      "outputs": [
        {
          "output_type": "stream",
          "name": "stdout",
          "text": [
            "Enter your cuisine preference: north\n",
            "Enter your budget for two people: 1111\n",
            "Recommended Restaurant: Srinidhi Sagar Deluxe\n"
          ]
        }
      ]
    }
  ],
  "metadata": {
    "colab": {
      "provenance": [],
      "include_colab_link": true
    },
    "kernelspec": {
      "display_name": "Python 3",
      "name": "python3"
    },
    "language_info": {
      "name": "python"
    }
  },
  "nbformat": 4,
  "nbformat_minor": 0
}